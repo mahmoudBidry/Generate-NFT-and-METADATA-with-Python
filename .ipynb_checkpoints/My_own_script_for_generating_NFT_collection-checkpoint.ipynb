{
 "cells": [
  {
   "cell_type": "code",
   "execution_count": 1,
   "metadata": {},
   "outputs": [],
   "source": [
    "from PIL import Image \n",
    "import random\n",
    "import json\n",
    "import os"
   ]
  },
  {
   "cell_type": "code",
   "execution_count": 2,
   "metadata": {},
   "outputs": [],
   "source": [
    "# Each image is made up a series of traits\n",
    "# The weightings for each trait drive the rarity and add up to 100%\n",
    "\n",
    "background = [\"Name_background1\",\"Name_background2\",\"Name_background3\",\"Name_background4\",\"Name_background5\",\"Name_background6\",\n",
    "              \"Name_background7\",\"Name_background8\",\"Name_background9\",\"Name_background10\",\"Name_background11\",\"Name_background12\",\n",
    "              \"Name_background13\",\"Name_background14\"] \n",
    "background_weights = [8, 8, 8, 8, 8, 8, 8, 8, 8, 6, 6, 6, 6, 4]\n",
    "\n",
    "beard_and_mustache = [\"Name_beard_and_mustache1\", \"Name_beard_and_mustache2\", \"Name_beard_and_mustache3\", \"Name_beard_and_mustache4\",\n",
    "                      \"Name_beard_and_mustache5\", \"Name_beard_and_mustache6\", \"Name_beard_and_mustache7\", \"Name_beard_and_mustache8\",\n",
    "                      \"Name_beard_and_mustache9\"]\n",
    "beard_and_mustache_weights = [15, 15, 15, 15, 15, 15, 7, 2, 1]\n",
    "\n",
    "body = [\"Name_body1\", \"Name_body2\", \"Name_body3\", \"Name_body4\", \"Name_body5\"]\n",
    "body_weights = [10, 25, 25 , 25 , 15]\n",
    "\n",
    "eyes = [\"Name_eyes1\", \"Name_eyes2\", \"Name_eyes3\", \"Name_eyes4\", \"Name_eyes5\"]\n",
    "eyes_weights = [10, 25, 25 , 25 , 15]\n",
    "\n",
    "glasses = [\"Name_glasses1\", \"Name_glasses2\", \"Name_glasses3\", \"Name_glasses4\", \"Name_glasses5\"]\n",
    "glasses_weights = [10, 25, 25 , 25 , 15]\n",
    "\n",
    "mouth = [\"Name_mouth1\", \"Name_mouth2\"]\n",
    "mouth_weights = [70, 30]\n",
    "\n",
    "outfits = [\"Name_outfits1\", \"Name_outfits2\", \"Name_outfits3\", \"Name_outfits4\", \"Name_outfits5\",\n",
    "           \"Name_outfits6\", \"Name_outfits7\"]\n",
    "outfits_weights = [15, 15, 15, 15, 15, 15, 10]\n",
    "\n",
    "traitsName = [background, body, outfits, eyes, glasses, mouth, beard_and_mustache]\n",
    "\n",
    "traitsWeights = [background_weights, body_weights, outfits_weights, eyes_weights, glasses_weights, \n",
    "                 mouth_weights, beard_and_mustache_weights]"
   ]
  },
  {
   "cell_type": "code",
   "execution_count": 3,
   "metadata": {},
   "outputs": [],
   "source": [
    "original_path = os.getcwd() + \"\\\\NFT parts\""
   ]
  },
  {
   "cell_type": "code",
   "execution_count": 4,
   "metadata": {},
   "outputs": [
    {
     "name": "stdout",
     "output_type": "stream",
     "text": [
      "1 - background\n",
      "2 - body\n",
      "3 - outfits\n",
      "4 - eyes\n",
      "5 - glasses\n",
      "6 - mouth\n",
      "7 - mustache and beard\n"
     ]
    }
   ],
   "source": [
    "folders = []\n",
    "for folder in os.listdir(original_path) :\n",
    "    print(folder)\n",
    "    folders.append(folder)"
   ]
  },
  {
   "cell_type": "code",
   "execution_count": 5,
   "metadata": {},
   "outputs": [],
   "source": [
    "numberOfFilesForEachFolder = []\n",
    "counter = 0\n",
    "for folder in folders : \n",
    "    for filename in os.listdir(original_path+\"\\\\\"+folder) :\n",
    "        counter +=1\n",
    "    numberOfFilesForEachFolder.append(counter)\n",
    "    counter = 0"
   ]
  },
  {
   "cell_type": "code",
   "execution_count": 6,
   "metadata": {},
   "outputs": [],
   "source": [
    "numberOfCombination = 1\n",
    "for number in numberOfFilesForEachFolder :\n",
    "    numberOfCombination *= number"
   ]
  },
  {
   "cell_type": "code",
   "execution_count": 7,
   "metadata": {},
   "outputs": [
    {
     "name": "stdout",
     "output_type": "stream",
     "text": [
      "number of combination possible is :220500\n"
     ]
    }
   ],
   "source": [
    "print(\"number of combination possible is :\" + str(numberOfCombination))"
   ]
  },
  {
   "cell_type": "code",
   "execution_count": 8,
   "metadata": {},
   "outputs": [],
   "source": [
    "def NFT_part_files(folder, dictionary, traitName) :\n",
    "    counter = 0\n",
    "    for filename in os.listdir(original_path+\"\\\\\"+folder) :\n",
    "        dictionary[traitName[counter]] = filename\n",
    "        counter += 1\n",
    "        \n",
    "    return dictionary"
   ]
  },
  {
   "cell_type": "code",
   "execution_count": 9,
   "metadata": {},
   "outputs": [],
   "source": [
    "partsFiles= []\n",
    "for i in range(len(folders)) :\n",
    "    partsFiles.append(NFT_part_files(folders[i], {}, traitsName[i]))"
   ]
  },
  {
   "cell_type": "code",
   "execution_count": 10,
   "metadata": {},
   "outputs": [
    {
     "data": {
      "text/plain": [
       "{'Name_background1': '1 - background1.png',\n",
       " 'Name_background2': '1 - background10.png',\n",
       " 'Name_background3': '1 - background11.png',\n",
       " 'Name_background4': '1 - background12.png',\n",
       " 'Name_background5': '1 - background13.png',\n",
       " 'Name_background6': '1 - background14.png',\n",
       " 'Name_background7': '1 - background2.png',\n",
       " 'Name_background8': '1 - background3.png',\n",
       " 'Name_background9': '1 - background4.png',\n",
       " 'Name_background10': '1 - background5.png',\n",
       " 'Name_background11': '1 - background6.png',\n",
       " 'Name_background12': '1 - background7.png',\n",
       " 'Name_background13': '1 - background8.png',\n",
       " 'Name_background14': '1 - background9.png'}"
      ]
     },
     "execution_count": 10,
     "metadata": {},
     "output_type": "execute_result"
    }
   ],
   "source": [
    "partsFiles[0]"
   ]
  },
  {
   "cell_type": "code",
   "execution_count": 11,
   "metadata": {},
   "outputs": [],
   "source": [
    "TotalImages = 100 # Number of random unique images we want to generate\n",
    "all_images = [] \n",
    "\n",
    "# A recursive function to generate unique image combinations\n",
    "def create_new_image(folders, traitsName, traitsWeights):\n",
    "    \n",
    "    new_image = {} #\n",
    "\n",
    "     #For each trait category, select a random trait based on the weightings \n",
    "    for i in range(len(folders)) :\n",
    "        new_image[folders[i]] = random.choices(traitsName[i], traitsWeights[i])[0]\n",
    "     \n",
    "    # each image must be unique\n",
    "    if new_image in all_images:\n",
    "        return create_new_image()\n",
    "    else:\n",
    "        return new_image"
   ]
  },
  {
   "cell_type": "code",
   "execution_count": 12,
   "metadata": {},
   "outputs": [],
   "source": [
    "def generation_unique_combination(TotalImages, folders, traitsName, traitsWeights) : \n",
    "    # Generate the unique combinations based on trait weightings\n",
    "    for i in range(TotalImages): \n",
    "\n",
    "        new_trait_image = create_new_image(folders, traitsName, traitsWeights)\n",
    "\n",
    "        all_images.append(new_trait_image)\n",
    "        \n",
    "    return all_images"
   ]
  },
  {
   "cell_type": "code",
   "execution_count": 13,
   "metadata": {},
   "outputs": [],
   "source": [
    "# Returns true if all images are unique\n",
    "def all_images_unique(all_images) :\n",
    "    counter = 0\n",
    "    for i in range(len(all_images)):\n",
    "        currentImage = all_images[i]\n",
    "        for image in all_images :\n",
    "            if(currentImage == image) :\n",
    "                counter += 1\n",
    "                \n",
    "    if(counter == len(all_images)) :\n",
    "        return True\n",
    "    return False"
   ]
  },
  {
   "cell_type": "code",
   "execution_count": 14,
   "metadata": {},
   "outputs": [],
   "source": [
    "# all images are unique\n",
    "while True:\n",
    "    all_images = generation_unique_combination(TotalImages, folders, traitsName, traitsWeights)\n",
    "    \n",
    "    if(all_images_unique(all_images)) :\n",
    "        break"
   ]
  },
  {
   "cell_type": "code",
   "execution_count": 15,
   "metadata": {},
   "outputs": [],
   "source": [
    "# Add token Id to each image\n",
    "i = 1\n",
    "for item in all_images:\n",
    "    item[\"tokenId\"] = i\n",
    "    i = i + 1"
   ]
  },
  {
   "cell_type": "code",
   "execution_count": 16,
   "metadata": {},
   "outputs": [
    {
     "data": {
      "text/plain": [
       "{'1 - background': 'Name_background12',\n",
       " '2 - body': 'Name_body4',\n",
       " '3 - outfits': 'Name_outfits2',\n",
       " '4 - eyes': 'Name_eyes4',\n",
       " '5 - glasses': 'Name_glasses4',\n",
       " '6 - mouth': 'Name_mouth1',\n",
       " '7 - mustache and beard': 'Name_beard_and_mustache5',\n",
       " 'tokenId': 1}"
      ]
     },
     "execution_count": 16,
     "metadata": {},
     "output_type": "execute_result"
    }
   ],
   "source": [
    "all_images[0]"
   ]
  },
  {
   "cell_type": "markdown",
   "metadata": {},
   "source": [
    "# Generate Images"
   ]
  },
  {
   "cell_type": "code",
   "execution_count": 17,
   "metadata": {},
   "outputs": [],
   "source": [
    "#Create a folder for our collection\n",
    "imageFolderName = \"images_NFT\"\n",
    "os.mkdir(imageFolderName)"
   ]
  },
  {
   "cell_type": "code",
   "execution_count": 18,
   "metadata": {},
   "outputs": [],
   "source": [
    "# Generate Images\n",
    "im = []\n",
    "for item in all_images:\n",
    "    \n",
    "    for i in range(len(folders)) : \n",
    "        im.append(Image.open(original_path+\"\\\\\"+folders[i]+\"\\\\\"+partsFiles[i][item[folders[i]]]).convert('RGBA'))\n",
    "        \n",
    "    #Create each composite\n",
    "    com = Image.alpha_composite(im[0], im[1])\n",
    "    \n",
    "    for i in range(2, len(im)) :\n",
    "        com = Image.alpha_composite(com, im[i])\n",
    "    \n",
    "    #Convert to RGB\n",
    "    RGBimage = com.convert('RGB')\n",
    "    filename = str(item[\"tokenId\"]) + \".png\"\n",
    "    RGBimage.save(imageFolderName+\"/\"+filename)"
   ]
  },
  {
   "cell_type": "markdown",
   "metadata": {},
   "source": [
    "# Generate Metadata"
   ]
  },
  {
   "cell_type": "code",
   "execution_count": 19,
   "metadata": {},
   "outputs": [],
   "source": [
    "#### Generate Metadata for all Traits \n",
    "metadataFolderName = \"metadata_NFT\"\n",
    "os.mkdir(metadataFolderName)\n",
    "\n",
    "METADATA_FILE_NAME = metadataFolderName+'/all-traits.json'; \n",
    "with open(METADATA_FILE_NAME, 'w') as outfile:\n",
    "    json.dump(all_images, outfile, indent=4)"
   ]
  },
  {
   "cell_type": "code",
   "execution_count": 20,
   "metadata": {},
   "outputs": [],
   "source": [
    "def getAttribute(key, value):\n",
    "    return {\n",
    "        \"trait_type\": key,\n",
    "        \"value\": value\n",
    "    }"
   ]
  },
  {
   "cell_type": "code",
   "execution_count": 21,
   "metadata": {},
   "outputs": [],
   "source": [
    "#### Generate Metadata for each Image    \n",
    "\n",
    "f = open(metadataFolderName+'/all-traits.json',) \n",
    "data = json.load(f)\n",
    "\n",
    "# Changes this IMAGES_BASE_URL to yours \n",
    "IMAGES_BASE_URL = \"https://gateway.pinata.cloud/ipfs/QmRdqNBYkbCKHGuUBUmH2sFGJafQkoHeU1cWePRw4dTX3n/\"\n",
    "PROJECT_NAME = \"Wolf NFT\"\n",
    "\n",
    "for i in data:\n",
    "    token_id = i['tokenId']\n",
    "    token = {\n",
    "        \"image\": IMAGES_BASE_URL + str(token_id) + '.png',\n",
    "        \"tokenId\": token_id,\n",
    "        \"name\": PROJECT_NAME + ' ' + str(token_id),\n",
    "        \"attributes\": []\n",
    "    }\n",
    "    for folder in folders : \n",
    "        token[\"attributes\"].append(getAttribute(folder, i[folder]))\n",
    "        \n",
    "    with open(metadataFolderName +'/' + str(token_id) + \".json\", 'w') as outfile:\n",
    "        json.dump(token, outfile, indent=4)\n",
    "f.close()"
   ]
  }
 ],
 "metadata": {
  "kernelspec": {
   "display_name": "Python 3",
   "language": "python",
   "name": "python3"
  },
  "language_info": {
   "codemirror_mode": {
    "name": "ipython",
    "version": 3
   },
   "file_extension": ".py",
   "mimetype": "text/x-python",
   "name": "python",
   "nbconvert_exporter": "python",
   "pygments_lexer": "ipython3",
   "version": "3.8.5"
  }
 },
 "nbformat": 4,
 "nbformat_minor": 4
}
