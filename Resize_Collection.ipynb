{
 "cells": [
  {
   "cell_type": "code",
   "execution_count": 1,
   "metadata": {},
   "outputs": [],
   "source": [
    "from PIL import Image\n",
    "import os"
   ]
  },
  {
   "cell_type": "code",
   "execution_count": 2,
   "metadata": {},
   "outputs": [],
   "source": [
    "NFT_parts = \"NFT parts\""
   ]
  },
  {
   "cell_type": "code",
   "execution_count": 3,
   "metadata": {},
   "outputs": [],
   "source": [
    "original_path = os.getcwd() + \"\\\\\" + NFT_parts"
   ]
  },
  {
   "cell_type": "code",
   "execution_count": 4,
   "metadata": {},
   "outputs": [
    {
     "data": {
      "text/plain": [
       "'C:\\\\Users\\\\Mahmoud\\\\Downloads\\\\generate collection nft\\\\NFT Layers WOLF 100%\\\\NFT parts'"
      ]
     },
     "execution_count": 4,
     "metadata": {},
     "output_type": "execute_result"
    }
   ],
   "source": [
    "original_path"
   ]
  },
  {
   "cell_type": "markdown",
   "metadata": {},
   "source": [
    "# RENAME"
   ]
  },
  {
   "cell_type": "code",
   "execution_count": 5,
   "metadata": {},
   "outputs": [
    {
     "data": {
      "text/plain": [
       "'\\ncpt = 1;\\nfor folder in os.listdir(original_path):\\n    print(folder)\\n    for filename in os.listdir(original_path + \"\\\\\" + folder) : \\n        os.rename(original_path + \"\\\\\" + folder + \"\\\\\"+ filename,\\n                  original_path + \"\\\\\" + folder + \"\\\\a\"+ filename)\\n        cpt += 1\\n    cpt = 1\\n\\nfor folder in os.listdir(original_path):\\n    print(folder)\\n    for filename in os.listdir(original_path + \"\\\\\" + folder) : \\n        os.rename(original_path + \"\\\\\" + folder + \"\\\\\"+ filename, original_path + \"\\\\\" + folder + \"\\\\\" + folder+ str(cpt) + \".png\")\\n        cpt += 1\\n    cpt = 1\\n'"
      ]
     },
     "execution_count": 5,
     "metadata": {},
     "output_type": "execute_result"
    }
   ],
   "source": [
    "'''\n",
    "cpt = 1;\n",
    "for folder in os.listdir(original_path):\n",
    "    print(folder)\n",
    "    for filename in os.listdir(original_path + \"\\\\\" + folder) : \n",
    "        os.rename(original_path + \"\\\\\" + folder + \"\\\\\"+ filename,\n",
    "                  original_path + \"\\\\\" + folder + \"\\\\a\"+ filename)\n",
    "        cpt += 1\n",
    "    cpt = 1\n",
    "\n",
    "for folder in os.listdir(original_path):\n",
    "    print(folder)\n",
    "    for filename in os.listdir(original_path + \"\\\\\" + folder) : \n",
    "        os.rename(original_path + \"\\\\\" + folder + \"\\\\\"+ filename, original_path + \"\\\\\" + folder + \"\\\\\" + folder+ str(cpt) + \".png\")\n",
    "        cpt += 1\n",
    "    cpt = 1\n",
    "'''"
   ]
  },
  {
   "cell_type": "markdown",
   "metadata": {},
   "source": [
    "# RESIZE Layers"
   ]
  },
  {
   "cell_type": "code",
   "execution_count": 6,
   "metadata": {},
   "outputs": [
    {
     "name": "stdout",
     "output_type": "stream",
     "text": [
      "folder = 1 - background : \n",
      "folder = 2 - body : \n",
      "folder = 3 - outfits : \n",
      "folder = 4 - eyes : \n",
      "folder = 5 - glasses : \n",
      "folder = 6 - mouth : \n",
      "folder = 7 - beard and mustache : \n"
     ]
    }
   ],
   "source": [
    "new_size = (1080, 1080)\n",
    "for folder in os.listdir(original_path):\n",
    "    print(\"folder = \" + folder+ \" : \")\n",
    "    for filename in os.listdir(original_path + \"\\\\\" + folder) : \n",
    "        image = Image.open(original_path + \"\\\\\" + folder+ \"\\\\\"+ filename)\n",
    "        image = image.resize(new_size)\n",
    "        image.save(original_path + \"\\\\\" + folder+ \"\\\\\"+ filename)"
   ]
  }
 ],
 "metadata": {
  "kernelspec": {
   "display_name": "Python 3",
   "language": "python",
   "name": "python3"
  },
  "language_info": {
   "codemirror_mode": {
    "name": "ipython",
    "version": 3
   },
   "file_extension": ".py",
   "mimetype": "text/x-python",
   "name": "python",
   "nbconvert_exporter": "python",
   "pygments_lexer": "ipython3",
   "version": "3.8.5"
  }
 },
 "nbformat": 4,
 "nbformat_minor": 4
}
